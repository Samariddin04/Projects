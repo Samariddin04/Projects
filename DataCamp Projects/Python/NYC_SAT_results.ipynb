{
 "cells": [
  {
   "cell_type": "markdown",
   "id": "4e38ccb0",
   "metadata": {},
   "source": [
    "# Datacamp Assoc DS\n",
    "Project #2 - NYC SAT results"
   ]
  },
  {
   "cell_type": "markdown",
   "id": "378eb5b0",
   "metadata": {},
   "source": [
    "Every year, American high school students take SATs, which are standardized tests intended to measure literacy, numeracy, and writing skills. There are three sections - reading, math, and writing, each with a maximum score of 800 points. These tests are extremely important for students and colleges, as they play a pivotal role in the admissions process.\n",
    "\n",
    "Analyzing the performance of schools is important for a variety of stakeholders, including policy and education professionals, researchers, government, and even parents considering which school their children should attend.\n",
    "\n",
    "You have been provided with a dataset called schools.csv, which is previewed below.\n",
    "\n",
    "You have been tasked with answering three key questions about New York City (NYC) public school SAT performance."
   ]
  },
  {
   "cell_type": "markdown",
   "id": "dedb9180",
   "metadata": {},
   "source": [
    "---"
   ]
  },
  {
   "cell_type": "markdown",
   "id": "3f5147bc",
   "metadata": {},
   "source": [
    "Which NYC schools have the best math results?\n",
    "\n",
    "The best math results are at least 80% of the *maximum possible score of 800* for math.\n",
    "Save your results in a pandas DataFrame called best_math_schools, including \"school_name\" and \"average_math\" columns, sorted by \"average_math\" in descending order.\n",
    "What are the top 10 performing schools based on the combined SAT scores?\n",
    "\n",
    "Save your results as a pandas DataFrame called top_10_schools containing the \"school_name\" and a new column named \"total_SAT\", with results ordered by \"total_SAT\" in descending order.\n",
    "Which single borough has the largest standard deviation in the combined SAT score?\n",
    "\n",
    "Save your results as a pandas DataFrame called largest_std_dev.\n",
    "The DataFrame should contain one row, with:\n",
    "\"borough\" - the name of the NYC borough with the largest standard deviation of \"total_SAT\".\n",
    "\"num_schools\" - the number of schools in the borough.\n",
    "\"average_SAT\" - the mean of \"total_SAT\".\n",
    "\"std_SAT\" - the standard deviation of \"total_SAT\".\n",
    "Round all numeric values to two decimal places."
   ]
  },
  {
   "cell_type": "markdown",
   "id": "7ac9b64c",
   "metadata": {},
   "source": [
    "---"
   ]
  },
  {
   "cell_type": "markdown",
   "id": "58675db4",
   "metadata": {},
   "source": [
    "Solution"
   ]
  },
  {
   "cell_type": "code",
   "execution_count": null,
   "id": "e3c34de4",
   "metadata": {},
   "outputs": [],
   "source": [
    "# Re-run this cell \n",
    "import pandas as pd\n",
    "\n",
    "# Read in the data\n",
    "schools = pd.read_csv(\"schools.csv\")\n",
    "\n",
    "# Preview the data\n",
    "schools.head()\n",
    "\n",
    "# Start coding here...\n",
    "\n",
    "# Which schools are best for math?\n",
    "best_math_schools = schools[schools[\"average_math\"] >= 640][[\"school_name\", \"average_math\"]].sort_values(\"average_math\", ascending=False)\n",
    "\n",
    "# Calculate total_SAT per school\n",
    "schools[\"total_SAT\"] = schools[\"average_math\"] + schools[\"average_reading\"] + schools[\"average_writing\"]\n",
    "\n",
    "# Who are the top 10 performing schools?\n",
    "top_10_schools = schools.sort_values(\"total_SAT\", ascending=False)[[\"school_name\", \"total_SAT\"]].head(10)\n",
    "\n",
    "# Which NYC borough has the highest standard deviation for total_SAT?\n",
    "boroughs = schools.groupby(\"borough\")[\"total_SAT\"].agg([\"count\", \"mean\", \"std\"]).round(2)\n",
    "\n",
    "# Filter for max std and make borough a column\n",
    "largest_std_dev = boroughs[boroughs[\"std\"] == boroughs[\"std\"].max()]\n",
    "\n",
    "# Rename the columns for clarity\n",
    "largest_std_dev = largest_std_dev.rename(columns={\"count\": \"num_schools\", \"mean\": \"average_SAT\", \"std\": \"std_SAT\"})\n",
    "\n",
    "# Optional: Move borough from index to column\n",
    "largest_std_dev.reset_index(inplace=True)"
   ]
  },
  {
   "cell_type": "markdown",
   "id": "a034f73b",
   "metadata": {},
   "source": [
    "---"
   ]
  },
  {
   "cell_type": "markdown",
   "id": "9cc15018",
   "metadata": {},
   "source": [
    "My code"
   ]
  },
  {
   "cell_type": "code",
   "execution_count": null,
   "id": "f85253be",
   "metadata": {},
   "outputs": [],
   "source": [
    "# Re-run this cell \n",
    "import pandas as pd\n",
    "\n",
    "# Read in the data\n",
    "schools = pd.read_csv(\"schools.csv\")\n",
    "\n",
    "# Preview the data\n",
    "schools.head()\n",
    "\n",
    "# Start coding here...\n",
    "# Add as many cells as you like...\n",
    "\n",
    "######### 1 #################\n",
    "best_math = schools[schools[\"average_math\"]>=640][[\"school_name\", \"average_math\"]]\n",
    "best_math_schools = best_math.sort_values(\"average_math\", ascending=False)\n",
    "\n",
    "\n",
    "######### 2 #################\n",
    "schools[\"total_SAT\"]=schools[\"average_math\"]+schools[\"average_reading\"]+schools[\"average_writing\"]\n",
    "top_schools = schools.sort_values(\"total_SAT\", ascending=False)\n",
    "top_10_schools = top_schools[[\"school_name\", \"total_SAT\"]].head(10)\n",
    "top_10_schools\n",
    "\n",
    "\n",
    "######### 3 #################\n",
    "import numpy as np\n",
    "schools\n",
    "\n",
    "group_borough = schools.groupby(\"borough\")\n",
    "# group_borough[\"num_schools\"] = schools[\"borough\"].value_counts()\n",
    "# group_borough[\"average_SAT\"] = group_borough[\"total_SAT\"].mean()\n",
    "std = group_borough[\"total_SAT\"].std()\n",
    "mean = group_borough[\"total_SAT\"].mean()\n",
    "num_school = group_borough.size()\n",
    "\n",
    "max_std_borough = std.idxmax()\n",
    "\n",
    "# Create a DataFrame with the required information\n",
    "largest_std_dev = pd.DataFrame({\n",
    "    \"borough\": [max_std_borough],\n",
    "    \"num_schools\": [num_school[max_std_borough]],\n",
    "    \"average_SAT\": [mean[max_std_borough]],\n",
    "    \"std_SAT\": [std[max_std_borough]]\n",
    "})\n",
    "largest_std_dev = largest_std_dev.round(2)\n",
    "best_math_schools\n",
    "\n",
    "# max_std = std.max()\n",
    "# largest = std[std==max_std]\n",
    "# # if schools[\"borough\"] == \"Manhattan\":\n",
    "# num_schools = schools[\"borough\"].value_counts()\n",
    "# num_schools[\"Manhattan\"]\n",
    "# schools[\"borough\"]\n",
    "# largest[\"\n",
    "# if largest[\"average_SAT\"] = group_borough[\"total_SAT\"].mean()\n",
    "# group_borough.head()\n",
    "\n",
    "\n",
    "# largest\n",
    "# largest_std\n",
    "# schools.head()\n",
    "# sort_values(\"total_SAT\").head(1)\n",
    "# largest_bor = group_borough[group_borough[\"total_SAT\"]==230.2941395364]"
   ]
  }
 ],
 "metadata": {
  "kernelspec": {
   "display_name": "Python 3 (ipykernel)",
   "language": "python",
   "name": "python3"
  },
  "language_info": {
   "codemirror_mode": {
    "name": "ipython",
    "version": 3
   },
   "file_extension": ".py",
   "mimetype": "text/x-python",
   "name": "python",
   "nbconvert_exporter": "python",
   "pygments_lexer": "ipython3",
   "version": "3.11.4"
  }
 },
 "nbformat": 4,
 "nbformat_minor": 5
}
