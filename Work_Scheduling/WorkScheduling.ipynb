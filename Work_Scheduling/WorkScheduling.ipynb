{
 "cells": [
  {
   "cell_type": "code",
   "execution_count": 1,
   "id": "7ddd3204-292d-4002-a5d3-8679b5cf18d0",
   "metadata": {},
   "outputs": [
    {
     "name": "stdout",
     "output_type": "stream",
     "text": [
      "Set parameter Username\n",
      "Academic license - for non-commercial use only - expires 2024-11-06\n",
      "Gurobi Optimizer version 10.0.3 build v10.0.3rc0 (win64)\n",
      "\n",
      "CPU model: 12th Gen Intel(R) Core(TM) i7-12700H, instruction set [SSE2|AVX|AVX2]\n",
      "Thread count: 14 physical cores, 20 logical processors, using up to 20 threads\n",
      "\n",
      "Optimize a model with 10 rows, 5 columns and 18 nonzeros\n",
      "Model fingerprint: 0x745c9950\n",
      "Variable types: 0 continuous, 5 integer (0 binary)\n",
      "Coefficient statistics:\n",
      "  Matrix range     [1e+00, 1e+00]\n",
      "  Objective range  [2e+02, 2e+02]\n",
      "  Bounds range     [0e+00, 0e+00]\n",
      "  RHS range        [2e+01, 9e+01]\n",
      "Found heuristic solution: objective 30640.000000\n",
      "Presolve removed 10 rows and 5 columns\n",
      "Presolve time: 0.00s\n",
      "Presolve: All rows and columns removed\n",
      "\n",
      "Explored 0 nodes (0 simplex iterations) in 0.01 seconds (0.00 work units)\n",
      "Thread count was 1 (of 20 available processors)\n",
      "\n",
      "Solution count 2: 30610 30640 \n",
      "\n",
      "Optimal solution found (tolerance 1.00e-04)\n",
      "Best objective 3.061000000000e+04, best bound 3.061000000000e+04, gap 0.0000%\n",
      "{0: <gurobi.Var C0 (value 48.0)>, 1: <gurobi.Var C1 (value 31.0)>, 2: <gurobi.Var C2 (value 39.0)>, 3: <gurobi.Var C3 (value 43.0)>, 4: <gurobi.Var C4 (value 15.0)>}\n",
      "[<gurobi.Var C0 (value 48.0)>, <gurobi.Var C1 (value 31.0)>, <gurobi.Var C2 (value 39.0)>, <gurobi.Var C3 (value 43.0)>, <gurobi.Var C4 (value 15.0)>]\n"
     ]
    }
   ],
   "source": [
    "import gurobipy as gpy\n",
    "\n",
    "''' Import or define problem data '''\n",
    "req = [48, 79, 65, 87, 64, 73, 82, 43, 52, 15]\n",
    "tp_s = [[1,0,0,0,0],\n",
    "        [1,1,0,0,0],\n",
    "        [1,1,0,0,0],\n",
    "        [1,1,1,0,0],\n",
    "        [0,1,1,0,0],\n",
    "        [0,0,1,1,0],\n",
    "        [0,0,1,1,0],\n",
    "        [0,0,0,1,0],\n",
    "        [0,0,0,1,1],\n",
    "        [0,0,0,0,1]]\n",
    "cost_shift = [170, 160, 175, 180, 195]\n",
    "num_shifts = len(cost_shift)\n",
    "''' Create Gurobi model object '''\n",
    "m = gpy.Model('workforce_scheduling') # insert model name in quotes\n",
    "\n",
    "''' Specify whether model is maximized or minimized   (model sense) '''\n",
    "m.ModelSense = gpy.GRB.MINIMIZE\n",
    "\n",
    "''' Specify optimization parameter settings, if desired '''\n",
    "# m.setParam('TimeLimit',7200)\n",
    "\n",
    "''' Create decision variables and update model'''\n",
    "# Use m.addVar(), m.addVars() or m.addMVar() here\n",
    "n = m.addVars(num_shifts, vtype=gpy.GRB.INTEGER)\n",
    "m.update()\n",
    "\n",
    "''' Create objective function and update model '''\n",
    "m.setObjective(gpy.quicksum(cost_shift[i] * n[i] for i in range(num_shifts)))\n",
    "m.update()\n",
    "\n",
    "''' Create constraints and update model '''\n",
    "# Use m.addConstr(), m.addLConstr(), m.addConstrs(), or m.addMConstr() here\n",
    "m.addConstrs(gpy.quicksum(tp_s[i][j] * n[j] for j in range(num_shifts))>=req[i] for i in range(len(tp_s)))\n",
    "m.update()\n",
    "\n",
    "''' Optimize model '''\n",
    "m.optimize()\n",
    "\n",
    "''' Print results '''\n",
    "print(n)\n",
    "print(m.getVars())\n"
   ]
  }
 ],
 "metadata": {
  "kernelspec": {
   "display_name": "Python 3 (ipykernel)",
   "language": "python",
   "name": "python3"
  },
  "language_info": {
   "codemirror_mode": {
    "name": "ipython",
    "version": 3
   },
   "file_extension": ".py",
   "mimetype": "text/x-python",
   "name": "python",
   "nbconvert_exporter": "python",
   "pygments_lexer": "ipython3",
   "version": "3.11.4"
  }
 },
 "nbformat": 4,
 "nbformat_minor": 5
}
